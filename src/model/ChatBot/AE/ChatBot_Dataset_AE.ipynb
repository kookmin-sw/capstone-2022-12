{
 "cells": [
  {
   "cell_type": "code",
   "execution_count": 1,
   "metadata": {
    "colab": {
     "base_uri": "https://localhost:8080/"
    },
    "executionInfo": {
     "elapsed": 6,
     "status": "ok",
     "timestamp": 1650102547942,
     "user": {
      "displayName": "‍조상연(학부생-소프트웨어전공)",
      "userId": "03827041892536496911"
     },
     "user_tz": -540
    },
    "id": "VhiGCKYrxpoE",
    "outputId": "1692bc4c-ebe8-4887-87d1-99d1c19e5223"
   },
   "outputs": [
    {
     "name": "stdout",
     "output_type": "stream",
     "text": [
      "BERT_ChatBot_Dataset2.csv      BERT기반 챗봇.ipynb\t Sample_Data_1.csv\n",
      "BERT_ChatBot_Dataset_768.csv   ChatBot_Dataset_AE.ipynb  Sample_Data_2.csv\n",
      "BERT_ChatBot_Dataset_Base.csv  GPT_Dataset.csv\t\t Sample_Data_합본.csv\n"
     ]
    }
   ],
   "source": [
    "!ls"
   ]
  },
  {
   "cell_type": "code",
   "execution_count": 2,
   "metadata": {
    "id": "Ai17hVjLyTtb"
   },
   "outputs": [],
   "source": [
    "import sys\n",
    "import time\n",
    "\n",
    "import matplotlib.pyplot as plt\n",
    "import numpy as np\n",
    "import pandas as pd\n",
    "import torch\n",
    "import torch.nn as nn\n",
    "import torch.nn.functional as F\n",
    "import torch.optim as optim\n",
    "from torch.utils.data import DataLoader, Dataset\n",
    "from torchsummary import summary\n",
    "from tqdm import notebook, tqdm\n",
    "\n",
    "\n",
    "def draw_history(history):\n",
    "    train_loss = history[\"train_loss\"]\n",
    "    #     valid_loss = history[\"valid_loss\"]\n",
    "\n",
    "    plt.plot(train_loss, label=\"train\")\n",
    "    #     plt.plot(valid_loss, label=\"valid\")\n",
    "    plt.legend()\n",
    "\n",
    "    plt.show()\n",
    "\n",
    "\n",
    "def train(\n",
    "    model, device, optimizer, criterion, epochs, train_loader, valid_loader=None\n",
    ") -> dict:\n",
    "    \"\"\"\n",
    "    :param model: your model\n",
    "    :param device: your device(cuda or cpu)\n",
    "    :param optimizer: your optimizer\n",
    "    :param criterion: loss function\n",
    "    :param epoch: train epochs\n",
    "    :param train_loader: train dataset\n",
    "    :param valid_loader: valid dataset\n",
    "    :return: history dictionary that contains train_loss, train_acc, valid_loss, valid_acc as list\n",
    "    \"\"\"\n",
    "    history = {\"train_loss\": [], \"train_acc\": [], \"valid_loss\": [], \"valid_acc\": []}\n",
    "    model.to(device)\n",
    "    for epoch in range(1, epochs + 1):\n",
    "        model.train()\n",
    "        train_loss = 0\n",
    "\n",
    "        # in notebook\n",
    "        # pbar = notebook.tqdm(enumerate(train_loader), file=sys.stdout)\n",
    "\n",
    "        # in interpreter\n",
    "        pbar = tqdm(enumerate(train_loader), file=sys.stdout)\n",
    "        for batch_idx, data in pbar:\n",
    "            data = data.to(device)\n",
    "\n",
    "            optimizer.zero_grad()\n",
    "            output = model(data)\n",
    "            loss = criterion(output, data)\n",
    "            loss.backward()\n",
    "            optimizer.step()\n",
    "\n",
    "            train_loss += loss.item()\n",
    "            pbar.set_postfix(epoch=f\"{epoch}/{epochs}\", loss=\"{:.6f}\".format(loss))\n",
    "        pbar.close()\n",
    "\n",
    "        train_loss = train_loss / len(train_loader)\n",
    "\n",
    "        history[\"train_loss\"].append(train_loss)\n",
    "\n",
    "        if valid_loader is not None:\n",
    "            valid_loss = evaluate(model, device, criterion, valid_loader)\n",
    "\n",
    "            history[\"valid_loss\"].append(valid_loss)\n",
    "\n",
    "    return history\n",
    "\n",
    "\n",
    "def evaluate(model, device, criterion, data_loader):\n",
    "    \"\"\"\n",
    "    :param model: your model\n",
    "    :param device: your device(cuda or cpu)\n",
    "    :param criterion: loss function\n",
    "    :param data_loader: valid or test Datasets\n",
    "    :return: (valid or test) loss and acc\n",
    "    \"\"\"\n",
    "    model.eval()\n",
    "    total_loss = 0\n",
    "\n",
    "    with torch.no_grad():\n",
    "        # in notebook\n",
    "        # pbar = notebook.tqdm(enumerate(data_loader), file=sys.stdout)\n",
    "\n",
    "        # in interpreter\n",
    "        pbar = tqdm(enumerate(data_loader), file=sys.stdout)\n",
    "\n",
    "        for batch_idx, (data, target) in pbar:\n",
    "            data = data.to(device)\n",
    "\n",
    "            output = model(data)\n",
    "            loss = criterion(output, data)\n",
    "\n",
    "            total_loss += loss.item()\n",
    "\n",
    "            pbar.set_postfix(loss=\"{:.6f}\".format(loss))\n",
    "        pbar.close()\n",
    "\n",
    "    total_loss = total_loss / len(data_loader)\n",
    "\n",
    "    return total_loss"
   ]
  },
  {
   "cell_type": "code",
   "execution_count": 3,
   "metadata": {
    "executionInfo": {
     "elapsed": 6453,
     "status": "ok",
     "timestamp": 1650102698359,
     "user": {
      "displayName": "‍조상연(학부생-소프트웨어전공)",
      "userId": "03827041892536496911"
     },
     "user_tz": -540
    },
    "id": "4szHuiuIxrJA"
   },
   "outputs": [],
   "source": [
    "class MyDataset(Dataset):\n",
    "    def __init__(self, csv_path):\n",
    "        super(MyDataset, self).__init__()\n",
    "\n",
    "        strtotensor = lambda x: list(map(float, x[1:-1].split(\",\")))\n",
    "\n",
    "        self.data = pd.read_csv(csv_path)\n",
    "        self.data[\"embedding\"] = self.data[\"embedding\"].map(strtotensor)\n",
    "\n",
    "    def __len__(self):\n",
    "        return len(self.data)\n",
    "\n",
    "    def __getitem__(self, idx):\n",
    "        x = torch.FloatTensor(self.data[\"embedding\"][idx])\n",
    "        return x\n",
    "\n",
    "    def get_answer(self, idx=0):\n",
    "        answer = self.data[\"A\"][idx]\n",
    "        return answer"
   ]
  },
  {
   "cell_type": "code",
   "execution_count": 4,
   "metadata": {
    "colab": {
     "base_uri": "https://localhost:8080/"
    },
    "executionInfo": {
     "elapsed": 56649,
     "status": "ok",
     "timestamp": 1650102757012,
     "user": {
      "displayName": "‍조상연(학부생-소프트웨어전공)",
      "userId": "03827041892536496911"
     },
     "user_tz": -540
    },
    "id": "UkefRUH5yOWl",
    "outputId": "24635974-7218-4025-e0f2-b8fea30de565"
   },
   "outputs": [],
   "source": [
    "myDataset = MyDataset(\"BERT_ChatBot_Dataset_768.csv\")\n",
    "data_loader = DataLoader(myDataset, batch_size=128)"
   ]
  },
  {
   "cell_type": "code",
   "execution_count": 46,
   "metadata": {
    "id": "53tXI20cyQaN"
   },
   "outputs": [],
   "source": [
    "class MyAE_256(nn.Module):\n",
    "    def __init__(self):\n",
    "        super(MyAE_256, self).__init__()\n",
    "\n",
    "        self.encoder = nn.Linear(768, 256)\n",
    "        self.decoder = nn.Linear(256, 768)\n",
    "\n",
    "        self.act_fn = nn.ReLU()\n",
    "\n",
    "    def forward(self, x):\n",
    "        x = self.encoder(x)\n",
    "        x = self.act_fn(x)\n",
    "        x = self.decoder(x)\n",
    "        return x\n",
    "\n",
    "    def encode(self, embed):\n",
    "        output = self.encoder(embed)\n",
    "        return output\n",
    "\n",
    "\n",
    "class MyAE_128(nn.Module):\n",
    "    def __init__(self):\n",
    "        super(MyAE_128, self).__init__()\n",
    "\n",
    "        self.encoder = nn.Linear(768, 128)\n",
    "        self.decoder = nn.Linear(128, 768)\n",
    "\n",
    "        self.act_fn = nn.ReLU()\n",
    "\n",
    "    def forward(self, x):\n",
    "        x = self.encoder(x)\n",
    "        x = self.act_fn(x)\n",
    "        x = self.decoder(x)\n",
    "        return x\n",
    "    \n",
    "    def encode(self, embed):\n",
    "        output = self.encoder(embed)\n",
    "        return output\n",
    "\n",
    "\n",
    "class MyAE_64(nn.Module):\n",
    "    def __init__(self):\n",
    "        super(MyAE_64, self).__init__()\n",
    "\n",
    "        self.encoder = nn.Linear(768, 64)\n",
    "        self.decoder = nn.Linear(64, 768)\n",
    "\n",
    "        self.act_fn = nn.ReLU()\n",
    "\n",
    "    def forward(self, x):\n",
    "        x = self.encoder(x)\n",
    "        x = self.act_fn(x)\n",
    "        x = self.decoder(x)\n",
    "        return x\n",
    "    \n",
    "    def encode(self, embed):\n",
    "        output = self.encoder(embed)\n",
    "        return output\n",
    "\n",
    "class MyAE_32(nn.Module):\n",
    "    def __init__(self):\n",
    "        super(MyAE_32, self).__init__()\n",
    "\n",
    "        self.encoder = nn.Linear(768, 32)\n",
    "        self.decoder = nn.Linear(32, 768)\n",
    "\n",
    "        self.act_fn = nn.ReLU()\n",
    "\n",
    "    def forward(self, x):\n",
    "        x = self.encoder(x)\n",
    "        x = self.act_fn(x)\n",
    "        x = self.decoder(x)\n",
    "        return x\n",
    "    \n",
    "    def encode(self, embed):\n",
    "        output = self.encoder(embed)\n",
    "        return output\n",
    "\n",
    "def get_Model(class_name):\n",
    "    try:\n",
    "        Myclass = eval(class_name)()\n",
    "        return Myclass\n",
    "    except NameError as e:\n",
    "        print(\"Class [{}] is not defined\".format(class_name))"
   ]
  },
  {
   "cell_type": "markdown",
   "metadata": {},
   "source": [
    "### 768 -> 256 AutoEncoder"
   ]
  },
  {
   "cell_type": "code",
   "execution_count": 6,
   "metadata": {},
   "outputs": [
    {
     "name": "stdout",
     "output_type": "stream",
     "text": [
      "=================================================================\n",
      "Layer (type:depth-idx)                   Param #\n",
      "=================================================================\n",
      "├─Linear: 1-1                            196,864\n",
      "├─Linear: 1-2                            197,376\n",
      "├─ReLU: 1-3                              --\n",
      "=================================================================\n",
      "Total params: 394,240\n",
      "Trainable params: 394,240\n",
      "Non-trainable params: 0\n",
      "=================================================================\n"
     ]
    },
    {
     "data": {
      "text/plain": [
       "=================================================================\n",
       "Layer (type:depth-idx)                   Param #\n",
       "=================================================================\n",
       "├─Linear: 1-1                            196,864\n",
       "├─Linear: 1-2                            197,376\n",
       "├─ReLU: 1-3                              --\n",
       "=================================================================\n",
       "Total params: 394,240\n",
       "Trainable params: 394,240\n",
       "Non-trainable params: 0\n",
       "================================================================="
      ]
     },
     "execution_count": 6,
     "metadata": {},
     "output_type": "execute_result"
    }
   ],
   "source": [
    "model_name = \"MyAE_256\"\n",
    "model_1 = get_Model(model_name)\n",
    "device = \"cuda\" if torch.cuda.is_available() else \"cpu\"\n",
    "optimizer = torch.optim.AdamW(model_1.parameters())\n",
    "criterion = torch.nn.MSELoss()\n",
    "\n",
    "summary(model_1, input_size=(768,), device=\"cuda\")"
   ]
  },
  {
   "cell_type": "code",
   "execution_count": 7,
   "metadata": {},
   "outputs": [
    {
     "name": "stdout",
     "output_type": "stream",
     "text": [
      "============================= Train =============================\n",
      "993it [00:08, 114.00it/s, epoch=1/20, loss=0.021904]\n",
      "993it [00:09, 104.48it/s, epoch=2/20, loss=0.019130]\n",
      "993it [00:11, 86.70it/s, epoch=3/20, loss=0.018739] \n",
      "993it [00:07, 136.47it/s, epoch=4/20, loss=0.018253]\n",
      "993it [00:07, 135.41it/s, epoch=5/20, loss=0.016783]\n",
      "993it [00:06, 155.27it/s, epoch=6/20, loss=0.018014]\n",
      "993it [00:05, 174.51it/s, epoch=7/20, loss=0.016998]\n",
      "993it [00:05, 166.16it/s, epoch=8/20, loss=0.018085]\n",
      "993it [00:05, 179.56it/s, epoch=9/20, loss=0.017087]\n",
      "993it [00:05, 184.73it/s, epoch=10/20, loss=0.017301]\n",
      "993it [00:05, 174.40it/s, epoch=11/20, loss=0.017929]\n",
      "993it [00:05, 195.09it/s, epoch=12/20, loss=0.016963]\n",
      "993it [00:05, 195.82it/s, epoch=13/20, loss=0.017787]\n",
      "993it [00:05, 193.63it/s, epoch=14/20, loss=0.017577]\n",
      "993it [00:05, 184.41it/s, epoch=15/20, loss=0.017070]\n",
      "993it [00:05, 186.63it/s, epoch=16/20, loss=0.017510]\n",
      "993it [00:04, 206.36it/s, epoch=17/20, loss=0.016737]\n",
      "993it [00:07, 138.15it/s, epoch=18/20, loss=0.017132]\n",
      "993it [00:05, 188.30it/s, epoch=19/20, loss=0.016824]\n",
      "993it [00:05, 179.56it/s, epoch=20/20, loss=0.016882]\n"
     ]
    }
   ],
   "source": [
    "# train\n",
    "print(\"============================= Train =============================\")\n",
    "history_1 = train(model_1, device, optimizer, criterion, 20, data_loader, None)"
   ]
  },
  {
   "cell_type": "code",
   "execution_count": 8,
   "metadata": {},
   "outputs": [
    {
     "data": {
      "image/png": "[encoded data removed]",
      "text/plain": [
       "<Figure size 432x288 with 1 Axes>"
      ]
     },
     "metadata": {
      "needs_background": "light"
     },
     "output_type": "display_data"
    }
   ],
   "source": [
    "draw_history(history_1)"
   ]
  },
  {
   "cell_type": "markdown",
   "metadata": {},
   "source": [
    "### 768 -> 128 AutoEncoder"
   ]
  },
  {
   "cell_type": "code",
   "execution_count": 9,
   "metadata": {},
   "outputs": [
    {
     "name": "stdout",
     "output_type": "stream",
     "text": [
      "=================================================================\n",
      "Layer (type:depth-idx)                   Param #\n",
      "=================================================================\n",
      "├─Linear: 1-1                            98,432\n",
      "├─Linear: 1-2                            99,072\n",
      "├─ReLU: 1-3                              --\n",
      "=================================================================\n",
      "Total params: 197,504\n",
      "Trainable params: 197,504\n",
      "Non-trainable params: 0\n",
      "=================================================================\n"
     ]
    },
    {
     "data": {
      "text/plain": [
       "=================================================================\n",
       "Layer (type:depth-idx)                   Param #\n",
       "=================================================================\n",
       "├─Linear: 1-1                            98,432\n",
       "├─Linear: 1-2                            99,072\n",
       "├─ReLU: 1-3                              --\n",
       "=================================================================\n",
       "Total params: 197,504\n",
       "Trainable params: 197,504\n",
       "Non-trainable params: 0\n",
       "================================================================="
      ]
     },
     "execution_count": 9,
     "metadata": {},
     "output_type": "execute_result"
    }
   ],
   "source": [
    "model_name = \"MyAE_128\"\n",
    "model_2 = get_Model(model_name)\n",
    "device = \"cuda\" if torch.cuda.is_available() else \"cpu\"\n",
    "optimizer = torch.optim.AdamW(model_2.parameters())\n",
    "criterion = torch.nn.MSELoss()\n",
    "\n",
    "summary(model_2, input_size=(768,), device=\"cuda\")"
   ]
  },
  {
   "cell_type": "code",
   "execution_count": 10,
   "metadata": {},
   "outputs": [
    {
     "name": "stdout",
     "output_type": "stream",
     "text": [
      "============================= Train =============================\n",
      "993it [00:07, 134.50it/s, epoch=1/20, loss=0.035144]\n",
      "993it [00:09, 106.80it/s, epoch=2/20, loss=0.031530]\n",
      "993it [00:08, 116.53it/s, epoch=3/20, loss=0.032069]\n",
      "993it [00:05, 180.38it/s, epoch=4/20, loss=0.029179]\n",
      "993it [00:05, 193.94it/s, epoch=5/20, loss=0.029912]\n",
      "993it [00:04, 202.88it/s, epoch=6/20, loss=0.031130]\n",
      "993it [00:06, 157.28it/s, epoch=7/20, loss=0.029916]\n",
      "993it [00:06, 161.53it/s, epoch=8/20, loss=0.031979]\n",
      "993it [00:05, 192.00it/s, epoch=9/20, loss=0.029670]\n",
      "993it [00:04, 205.53it/s, epoch=10/20, loss=0.031308]\n",
      "993it [00:07, 137.68it/s, epoch=11/20, loss=0.031213]\n",
      "993it [00:06, 164.20it/s, epoch=12/20, loss=0.030844]\n",
      "993it [00:06, 163.83it/s, epoch=13/20, loss=0.030512]\n",
      "993it [00:05, 170.37it/s, epoch=14/20, loss=0.031728]\n",
      "993it [00:05, 167.75it/s, epoch=15/20, loss=0.031371]\n",
      "993it [00:09, 103.67it/s, epoch=16/20, loss=0.031256]\n",
      "993it [00:09, 103.60it/s, epoch=17/20, loss=0.031320]\n",
      "993it [00:09, 109.46it/s, epoch=18/20, loss=0.031392]\n",
      "993it [00:08, 114.22it/s, epoch=19/20, loss=0.031428]\n",
      "993it [00:06, 164.54it/s, epoch=20/20, loss=0.031289]\n"
     ]
    }
   ],
   "source": [
    "# train\n",
    "print(\"============================= Train =============================\")\n",
    "history_2 = train(model_2, device, optimizer, criterion, 20, data_loader, None)"
   ]
  },
  {
   "cell_type": "code",
   "execution_count": 11,
   "metadata": {},
   "outputs": [
    {
     "data": {
      "image/png": "[encoded data removed]",
      "text/plain": [
       "<Figure size 432x288 with 1 Axes>"
      ]
     },
     "metadata": {
      "needs_background": "light"
     },
     "output_type": "display_data"
    }
   ],
   "source": [
    "draw_history(history_2)"
   ]
  },
  {
   "cell_type": "markdown",
   "metadata": {},
   "source": [
    "### 768 -> 64 AutoEncoder"
   ]
  },
  {
   "cell_type": "code",
   "execution_count": 12,
   "metadata": {},
   "outputs": [
    {
     "name": "stdout",
     "output_type": "stream",
     "text": [
      "=================================================================\n",
      "Layer (type:depth-idx)                   Param #\n",
      "=================================================================\n",
      "├─Linear: 1-1                            49,216\n",
      "├─Linear: 1-2                            49,920\n",
      "├─ReLU: 1-3                              --\n",
      "=================================================================\n",
      "Total params: 99,136\n",
      "Trainable params: 99,136\n",
      "Non-trainable params: 0\n",
      "=================================================================\n"
     ]
    },
    {
     "data": {
      "text/plain": [
       "=================================================================\n",
       "Layer (type:depth-idx)                   Param #\n",
       "=================================================================\n",
       "├─Linear: 1-1                            49,216\n",
       "├─Linear: 1-2                            49,920\n",
       "├─ReLU: 1-3                              --\n",
       "=================================================================\n",
       "Total params: 99,136\n",
       "Trainable params: 99,136\n",
       "Non-trainable params: 0\n",
       "================================================================="
      ]
     },
     "execution_count": 12,
     "metadata": {},
     "output_type": "execute_result"
    }
   ],
   "source": [
    "model_name = \"MyAE_64\"\n",
    "model_3 = get_Model(model_name)\n",
    "device = \"cuda\" if torch.cuda.is_available() else \"cpu\"\n",
    "optimizer = torch.optim.AdamW(model_3.parameters())\n",
    "criterion = torch.nn.MSELoss()\n",
    "\n",
    "summary(model_3, input_size=(768,), device=\"cuda\")"
   ]
  },
  {
   "cell_type": "code",
   "execution_count": 13,
   "metadata": {},
   "outputs": [
    {
     "name": "stdout",
     "output_type": "stream",
     "text": [
      "============================= Train =============================\n",
      "993it [00:06, 154.67it/s, epoch=1/20, loss=0.051250]\n",
      "993it [00:05, 174.02it/s, epoch=2/20, loss=0.045909]\n",
      "993it [00:05, 187.48it/s, epoch=3/20, loss=0.045190]\n",
      "993it [00:05, 177.14it/s, epoch=4/20, loss=0.044888]\n",
      "993it [00:05, 183.26it/s, epoch=5/20, loss=0.045517]\n",
      "993it [00:05, 183.03it/s, epoch=6/20, loss=0.044307]\n",
      "993it [00:05, 178.14it/s, epoch=7/20, loss=0.044166]\n",
      "993it [00:05, 168.97it/s, epoch=8/20, loss=0.046244]\n",
      "993it [00:05, 180.27it/s, epoch=9/20, loss=0.044186]\n",
      "993it [00:06, 143.09it/s, epoch=10/20, loss=0.046099]\n",
      "993it [00:07, 129.00it/s, epoch=11/20, loss=0.043747]\n",
      "993it [00:09, 104.62it/s, epoch=12/20, loss=0.045424]\n",
      "993it [00:09, 102.92it/s, epoch=13/20, loss=0.044736]\n",
      "993it [00:08, 114.11it/s, epoch=14/20, loss=0.045337]\n",
      "993it [00:08, 120.31it/s, epoch=15/20, loss=0.044480]\n",
      "993it [00:05, 197.62it/s, epoch=16/20, loss=0.047349]\n",
      "993it [00:05, 197.73it/s, epoch=17/20, loss=0.044028]\n",
      "993it [00:05, 182.65it/s, epoch=18/20, loss=0.045793]\n",
      "993it [00:05, 181.99it/s, epoch=19/20, loss=0.044703]\n",
      "993it [00:05, 194.27it/s, epoch=20/20, loss=0.045794]\n"
     ]
    }
   ],
   "source": [
    "# train\n",
    "print(\"============================= Train =============================\")\n",
    "history_3 = train(model_3, device, optimizer, criterion, 20, data_loader, None)"
   ]
  },
  {
   "cell_type": "code",
   "execution_count": 14,
   "metadata": {},
   "outputs": [
    {
     "data": {
      "image/png": "[encoded data removed]",
      "text/plain": [
       "<Figure size 432x288 with 1 Axes>"
      ]
     },
     "metadata": {
      "needs_background": "light"
     },
     "output_type": "display_data"
    }
   ],
   "source": [
    "draw_history(history_3)"
   ]
  },
  {
   "cell_type": "markdown",
   "metadata": {},
   "source": [
    "### 768 -> 32 AutoEncoder"
   ]
  },
  {
   "cell_type": "code",
   "execution_count": 47,
   "metadata": {},
   "outputs": [
    {
     "name": "stdout",
     "output_type": "stream",
     "text": [
      "=================================================================\n",
      "Layer (type:depth-idx)                   Param #\n",
      "=================================================================\n",
      "├─Linear: 1-1                            24,608\n",
      "├─Linear: 1-2                            25,344\n",
      "├─ReLU: 1-3                              --\n",
      "=================================================================\n",
      "Total params: 49,952\n",
      "Trainable params: 49,952\n",
      "Non-trainable params: 0\n",
      "=================================================================\n"
     ]
    },
    {
     "data": {
      "text/plain": [
       "=================================================================\n",
       "Layer (type:depth-idx)                   Param #\n",
       "=================================================================\n",
       "├─Linear: 1-1                            24,608\n",
       "├─Linear: 1-2                            25,344\n",
       "├─ReLU: 1-3                              --\n",
       "=================================================================\n",
       "Total params: 49,952\n",
       "Trainable params: 49,952\n",
       "Non-trainable params: 0\n",
       "================================================================="
      ]
     },
     "execution_count": 47,
     "metadata": {},
     "output_type": "execute_result"
    }
   ],
   "source": [
    "model_name = \"MyAE_32\"\n",
    "model_4 = get_Model(model_name)\n",
    "device = \"cuda\" if torch.cuda.is_available() else \"cpu\"\n",
    "optimizer = torch.optim.AdamW(model_4.parameters())\n",
    "criterion = torch.nn.MSELoss()\n",
    "\n",
    "summary(model_4, input_size=(768,), device=\"cuda\")"
   ]
  },
  {
   "cell_type": "code",
   "execution_count": 48,
   "metadata": {},
   "outputs": [
    {
     "name": "stdout",
     "output_type": "stream",
     "text": [
      "============================= Train =============================\n",
      "993it [00:07, 133.03it/s, epoch=1/20, loss=0.073820]\n",
      "993it [00:07, 140.45it/s, epoch=2/20, loss=0.068849]\n",
      "993it [00:05, 168.80it/s, epoch=3/20, loss=0.065173]\n",
      "993it [00:06, 148.23it/s, epoch=4/20, loss=0.065183]\n",
      "993it [00:05, 176.91it/s, epoch=5/20, loss=0.064233]\n",
      "993it [00:05, 179.81it/s, epoch=6/20, loss=0.064039]\n",
      "993it [00:05, 180.34it/s, epoch=7/20, loss=0.064144]\n",
      "993it [00:05, 173.98it/s, epoch=8/20, loss=0.063372]\n",
      "993it [00:05, 187.85it/s, epoch=9/20, loss=0.064318]\n",
      "993it [00:05, 189.66it/s, epoch=10/20, loss=0.063319]\n",
      "993it [00:04, 209.70it/s, epoch=11/20, loss=0.064437]\n",
      "993it [00:05, 188.68it/s, epoch=12/20, loss=0.063139]\n",
      "993it [00:05, 167.78it/s, epoch=13/20, loss=0.064724]\n",
      "993it [00:05, 195.94it/s, epoch=14/20, loss=0.064566]\n",
      "993it [00:05, 185.03it/s, epoch=15/20, loss=0.063578]\n",
      "993it [00:05, 168.65it/s, epoch=16/20, loss=0.065835]\n",
      "993it [00:05, 175.77it/s, epoch=17/20, loss=0.063010]\n",
      "993it [00:05, 184.82it/s, epoch=18/20, loss=0.066756]\n",
      "993it [00:06, 157.00it/s, epoch=19/20, loss=0.064081]\n",
      "993it [00:05, 195.63it/s, epoch=20/20, loss=0.065872]\n"
     ]
    }
   ],
   "source": [
    "# train\n",
    "print(\"============================= Train =============================\")\n",
    "history_4 = train(model_4, device, optimizer, criterion, 20, data_loader, None)"
   ]
  },
  {
   "cell_type": "code",
   "execution_count": 49,
   "metadata": {},
   "outputs": [
    {
     "data": {
      "image/png": "[encoded data removed]",
      "text/plain": [
       "<Figure size 432x288 with 1 Axes>"
      ]
     },
     "metadata": {
      "needs_background": "light"
     },
     "output_type": "display_data"
    }
   ],
   "source": [
    "draw_history(history_4)"
   ]
  },
  {
   "cell_type": "markdown",
   "metadata": {},
   "source": [
    "### Model save"
   ]
  },
  {
   "cell_type": "code",
   "execution_count": 50,
   "metadata": {},
   "outputs": [],
   "source": [
    "torch.save(model_1, 'AE256.pt')\n",
    "torch.save(model_2, 'AE128.pt')\n",
    "torch.save(model_3, 'AE64.pt')\n",
    "torch.save(model_4, 'AE32.pt')"
   ]
  },
  {
   "cell_type": "markdown",
   "metadata": {},
   "source": [
    "### Update CSV"
   ]
  },
  {
   "cell_type": "code",
   "execution_count": 51,
   "metadata": {},
   "outputs": [],
   "source": [
    "df = myDataset.data\n",
    "\n",
    "# df['embedding256'] = pd.Series([[]] * len(df)) # dummy\n",
    "# df['embedding128'] = pd.Series([[]] * len(df)) # dummy\n",
    "# df['embedding64'] = pd.Series([[]] * len(df)) # dummy\n",
    "df['embedding32'] = pd.Series([[]] * len(df)) # dummy"
   ]
  },
  {
   "cell_type": "code",
   "execution_count": 52,
   "metadata": {},
   "outputs": [
    {
     "data": {
      "text/html": [
       "<div>\n",
       "<style scoped>\n",
       "    .dataframe tbody tr th:only-of-type {\n",
       "        vertical-align: middle;\n",
       "    }\n",
       "\n",
       "    .dataframe tbody tr th {\n",
       "        vertical-align: top;\n",
       "    }\n",
       "\n",
       "    .dataframe thead th {\n",
       "        text-align: right;\n",
       "    }\n",
       "</style>\n",
       "<table border=\"1\" class=\"dataframe\">\n",
       "  <thead>\n",
       "    <tr style=\"text-align: right;\">\n",
       "      <th></th>\n",
       "      <th>Q</th>\n",
       "      <th>A</th>\n",
       "      <th>embedding</th>\n",
       "      <th>embedding256</th>\n",
       "      <th>embedding128</th>\n",
       "      <th>embedding64</th>\n",
       "      <th>embedding32</th>\n",
       "    </tr>\n",
       "  </thead>\n",
       "  <tbody>\n",
       "    <tr>\n",
       "      <th>0</th>\n",
       "      <td>아내가 드디어 출산하게 되어서 정말 신이 나.</td>\n",
       "      <td>아내분이 출산을 하시는군요. 정말 축하드려요.</td>\n",
       "      <td>[-0.45895177, -0.16547588, -1.1699946, -0.5235...</td>\n",
       "      <td>[0.7029776, 0.09571235, -0.13331926, 0.4616024...</td>\n",
       "      <td>[0.7919962, 0.85061026, 1.375485, 0.3510425, 0...</td>\n",
       "      <td>[0.872061, 0.4354716, 0.4324086, 1.2460749, -0...</td>\n",
       "      <td>[]</td>\n",
       "    </tr>\n",
       "    <tr>\n",
       "      <th>1</th>\n",
       "      <td>당뇨랑 합병증 때문에 먹어야 할 약이 열 가지가 넘어가니까 스트레스야.</td>\n",
       "      <td>약 종류가 많아 번거로우시겠어요.</td>\n",
       "      <td>[-0.33981258, -0.34263593, -0.19506723, 0.2771...</td>\n",
       "      <td>[0.43760988, 0.45013106, 0.34973702, 0.4857529...</td>\n",
       "      <td>[0.35499853, 1.2580262, 0.6652683, 0.08005451,...</td>\n",
       "      <td>[0.9290237, 0.44735566, 0.23166454, 0.9519159,...</td>\n",
       "      <td>[]</td>\n",
       "    </tr>\n",
       "    <tr>\n",
       "      <th>2</th>\n",
       "      <td>고등학교에 올라오니 중학교 때보다 수업이 갑자기 어려워져서 당황스러워.</td>\n",
       "      <td>고등학교 수업이 중학교 때와는 다르게 갑자기 어려워서 당황스러우시군요.</td>\n",
       "      <td>[-0.29754168, -0.046723098, 0.31551892, -0.247...</td>\n",
       "      <td>[0.7753483, 0.4311396, 0.1468041, 0.6344927, 0...</td>\n",
       "      <td>[0.52067024, -0.20803304, 0.789083, 0.20090854...</td>\n",
       "      <td>[0.6763892, 0.4358993, 0.30814424, 0.9880088, ...</td>\n",
       "      <td>[]</td>\n",
       "    </tr>\n",
       "    <tr>\n",
       "      <th>3</th>\n",
       "      <td>재취업이 돼서 받게 된 첫 월급으로 온 가족이 외식을 할 예정이야. 너무 행복해.</td>\n",
       "      <td>재취업 후 첫 월급이라 정말 기쁘시겠어요.</td>\n",
       "      <td>[-0.46993116, 0.12696421, -0.34500095, 0.03754...</td>\n",
       "      <td>[0.4545657, 0.24327877, -0.05450859, 0.3835893...</td>\n",
       "      <td>[0.30212066, 0.49565285, 1.044461, 0.075045474...</td>\n",
       "      <td>[1.2143894, 0.29390815, 0.3434412, 1.2170162, ...</td>\n",
       "      <td>[]</td>\n",
       "    </tr>\n",
       "    <tr>\n",
       "      <th>4</th>\n",
       "      <td>빚을 드디어 다 갚게 되어서 이제야 안도감이 들어.</td>\n",
       "      <td>기분 좋으시겠어요. 앞으로는 어떻게 하실 생각이신가요?</td>\n",
       "      <td>[0.29756892, -0.15757245, -0.4363715, -0.25249...</td>\n",
       "      <td>[0.53895783, 0.22691138, 0.07788866, -0.171293...</td>\n",
       "      <td>[-0.033911526, 0.1884734, 1.1081709, 0.7125091...</td>\n",
       "      <td>[0.7192032, 0.54352945, 0.04063937, 0.24342585...</td>\n",
       "      <td>[]</td>\n",
       "    </tr>\n",
       "  </tbody>\n",
       "</table>\n",
       "</div>"
      ],
      "text/plain": [
       "                                               Q  \\\n",
       "0                      아내가 드디어 출산하게 되어서 정말 신이 나.   \n",
       "1        당뇨랑 합병증 때문에 먹어야 할 약이 열 가지가 넘어가니까 스트레스야.   \n",
       "2        고등학교에 올라오니 중학교 때보다 수업이 갑자기 어려워져서 당황스러워.   \n",
       "3  재취업이 돼서 받게 된 첫 월급으로 온 가족이 외식을 할 예정이야. 너무 행복해.   \n",
       "4                   빚을 드디어 다 갚게 되어서 이제야 안도감이 들어.   \n",
       "\n",
       "                                         A  \\\n",
       "0                아내분이 출산을 하시는군요. 정말 축하드려요.   \n",
       "1                       약 종류가 많아 번거로우시겠어요.   \n",
       "2  고등학교 수업이 중학교 때와는 다르게 갑자기 어려워서 당황스러우시군요.   \n",
       "3                  재취업 후 첫 월급이라 정말 기쁘시겠어요.   \n",
       "4           기분 좋으시겠어요. 앞으로는 어떻게 하실 생각이신가요?   \n",
       "\n",
       "                                           embedding  \\\n",
       "0  [-0.45895177, -0.16547588, -1.1699946, -0.5235...   \n",
       "1  [-0.33981258, -0.34263593, -0.19506723, 0.2771...   \n",
       "2  [-0.29754168, -0.046723098, 0.31551892, -0.247...   \n",
       "3  [-0.46993116, 0.12696421, -0.34500095, 0.03754...   \n",
       "4  [0.29756892, -0.15757245, -0.4363715, -0.25249...   \n",
       "\n",
       "                                        embedding256  \\\n",
       "0  [0.7029776, 0.09571235, -0.13331926, 0.4616024...   \n",
       "1  [0.43760988, 0.45013106, 0.34973702, 0.4857529...   \n",
       "2  [0.7753483, 0.4311396, 0.1468041, 0.6344927, 0...   \n",
       "3  [0.4545657, 0.24327877, -0.05450859, 0.3835893...   \n",
       "4  [0.53895783, 0.22691138, 0.07788866, -0.171293...   \n",
       "\n",
       "                                        embedding128  \\\n",
       "0  [0.7919962, 0.85061026, 1.375485, 0.3510425, 0...   \n",
       "1  [0.35499853, 1.2580262, 0.6652683, 0.08005451,...   \n",
       "2  [0.52067024, -0.20803304, 0.789083, 0.20090854...   \n",
       "3  [0.30212066, 0.49565285, 1.044461, 0.075045474...   \n",
       "4  [-0.033911526, 0.1884734, 1.1081709, 0.7125091...   \n",
       "\n",
       "                                         embedding64 embedding32  \n",
       "0  [0.872061, 0.4354716, 0.4324086, 1.2460749, -0...          []  \n",
       "1  [0.9290237, 0.44735566, 0.23166454, 0.9519159,...          []  \n",
       "2  [0.6763892, 0.4358993, 0.30814424, 0.9880088, ...          []  \n",
       "3  [1.2143894, 0.29390815, 0.3434412, 1.2170162, ...          []  \n",
       "4  [0.7192032, 0.54352945, 0.04063937, 0.24342585...          []  "
      ]
     },
     "execution_count": 52,
     "metadata": {},
     "output_type": "execute_result"
    }
   ],
   "source": [
    "df.head()"
   ]
  },
  {
   "cell_type": "code",
   "execution_count": 22,
   "metadata": {},
   "outputs": [],
   "source": [
    "# 256dim\n",
    "model_1.cpu()\n",
    "df['embedding256'] = df['embedding'].map(lambda x : model_1.encode(torch.tensor(x)).detach().numpy())"
   ]
  },
  {
   "cell_type": "code",
   "execution_count": 23,
   "metadata": {},
   "outputs": [],
   "source": [
    "# 128dim\n",
    "model_2.cpu()\n",
    "df['embedding128'] = df['embedding'].map(lambda x : model_2.encode(torch.tensor(x)).detach().numpy())"
   ]
  },
  {
   "cell_type": "code",
   "execution_count": 24,
   "metadata": {},
   "outputs": [],
   "source": [
    "# 64dim\n",
    "model_3.cpu()\n",
    "df['embedding64'] = df['embedding'].map(lambda x : model_3.encode(torch.tensor(x)).detach().numpy())"
   ]
  },
  {
   "cell_type": "code",
   "execution_count": 53,
   "metadata": {},
   "outputs": [],
   "source": [
    "# 32dim\n",
    "model_4.cpu()\n",
    "df['embedding32'] = df['embedding'].map(lambda x : model_4.encode(torch.tensor(x)).detach().numpy())"
   ]
  },
  {
   "cell_type": "code",
   "execution_count": 61,
   "metadata": {},
   "outputs": [
    {
     "data": {
      "text/html": [
       "<div>\n",
       "<style scoped>\n",
       "    .dataframe tbody tr th:only-of-type {\n",
       "        vertical-align: middle;\n",
       "    }\n",
       "\n",
       "    .dataframe tbody tr th {\n",
       "        vertical-align: top;\n",
       "    }\n",
       "\n",
       "    .dataframe thead th {\n",
       "        text-align: right;\n",
       "    }\n",
       "</style>\n",
       "<table border=\"1\" class=\"dataframe\">\n",
       "  <thead>\n",
       "    <tr style=\"text-align: right;\">\n",
       "      <th></th>\n",
       "      <th>Q</th>\n",
       "      <th>A</th>\n",
       "      <th>embedding</th>\n",
       "      <th>embedding256</th>\n",
       "      <th>embedding128</th>\n",
       "      <th>embedding64</th>\n",
       "      <th>embedding32</th>\n",
       "    </tr>\n",
       "  </thead>\n",
       "  <tbody>\n",
       "    <tr>\n",
       "      <th>0</th>\n",
       "      <td>아내가 드디어 출산하게 되어서 정말 신이 나.</td>\n",
       "      <td>아내분이 출산을 하시는군요. 정말 축하드려요.</td>\n",
       "      <td>[-0.45895177, -0.16547588, -1.1699946, -0.5235...</td>\n",
       "      <td>[0.7029776, 0.09571235, -0.13331926, 0.4616024...</td>\n",
       "      <td>[0.7919962, 0.85061026, 1.375485, 0.3510425, 0...</td>\n",
       "      <td>[0.872061, 0.4354716, 0.4324086, 1.2460749, -0...</td>\n",
       "      <td>[0.3765331, 0.4333712, 0.30762458, 0.35876477,...</td>\n",
       "    </tr>\n",
       "    <tr>\n",
       "      <th>1</th>\n",
       "      <td>당뇨랑 합병증 때문에 먹어야 할 약이 열 가지가 넘어가니까 스트레스야.</td>\n",
       "      <td>약 종류가 많아 번거로우시겠어요.</td>\n",
       "      <td>[-0.33981258, -0.34263593, -0.19506723, 0.2771...</td>\n",
       "      <td>[0.43760988, 0.45013106, 0.34973702, 0.4857529...</td>\n",
       "      <td>[0.35499853, 1.2580262, 0.6652683, 0.08005451,...</td>\n",
       "      <td>[0.9290237, 0.44735566, 0.23166454, 0.9519159,...</td>\n",
       "      <td>[-0.13359079, 0.7160391, -0.0029896572, 0.2504...</td>\n",
       "    </tr>\n",
       "    <tr>\n",
       "      <th>2</th>\n",
       "      <td>고등학교에 올라오니 중학교 때보다 수업이 갑자기 어려워져서 당황스러워.</td>\n",
       "      <td>고등학교 수업이 중학교 때와는 다르게 갑자기 어려워서 당황스러우시군요.</td>\n",
       "      <td>[-0.29754168, -0.046723098, 0.31551892, -0.247...</td>\n",
       "      <td>[0.7753483, 0.4311396, 0.1468041, 0.6344927, 0...</td>\n",
       "      <td>[0.52067024, -0.20803304, 0.789083, 0.20090854...</td>\n",
       "      <td>[0.6763892, 0.4358993, 0.30814424, 0.9880088, ...</td>\n",
       "      <td>[0.6171636, 0.53944504, 1.3225539, 0.20258132,...</td>\n",
       "    </tr>\n",
       "    <tr>\n",
       "      <th>3</th>\n",
       "      <td>재취업이 돼서 받게 된 첫 월급으로 온 가족이 외식을 할 예정이야. 너무 행복해.</td>\n",
       "      <td>재취업 후 첫 월급이라 정말 기쁘시겠어요.</td>\n",
       "      <td>[-0.46993116, 0.12696421, -0.34500095, 0.03754...</td>\n",
       "      <td>[0.4545657, 0.24327877, -0.05450859, 0.3835893...</td>\n",
       "      <td>[0.30212066, 0.49565285, 1.044461, 0.075045474...</td>\n",
       "      <td>[1.2143894, 0.29390815, 0.3434412, 1.2170162, ...</td>\n",
       "      <td>[0.5613419, 0.22808537, 0.6220126, 0.2772836, ...</td>\n",
       "    </tr>\n",
       "    <tr>\n",
       "      <th>4</th>\n",
       "      <td>빚을 드디어 다 갚게 되어서 이제야 안도감이 들어.</td>\n",
       "      <td>기분 좋으시겠어요. 앞으로는 어떻게 하실 생각이신가요?</td>\n",
       "      <td>[0.29756892, -0.15757245, -0.4363715, -0.25249...</td>\n",
       "      <td>[0.53895783, 0.22691138, 0.07788866, -0.171293...</td>\n",
       "      <td>[-0.033911526, 0.1884734, 1.1081709, 0.7125091...</td>\n",
       "      <td>[0.7192032, 0.54352945, 0.04063937, 0.24342585...</td>\n",
       "      <td>[0.71849537, 0.2457625, 0.9755603, 0.4419853, ...</td>\n",
       "    </tr>\n",
       "  </tbody>\n",
       "</table>\n",
       "</div>"
      ],
      "text/plain": [
       "                                               Q  \\\n",
       "0                      아내가 드디어 출산하게 되어서 정말 신이 나.   \n",
       "1        당뇨랑 합병증 때문에 먹어야 할 약이 열 가지가 넘어가니까 스트레스야.   \n",
       "2        고등학교에 올라오니 중학교 때보다 수업이 갑자기 어려워져서 당황스러워.   \n",
       "3  재취업이 돼서 받게 된 첫 월급으로 온 가족이 외식을 할 예정이야. 너무 행복해.   \n",
       "4                   빚을 드디어 다 갚게 되어서 이제야 안도감이 들어.   \n",
       "\n",
       "                                         A  \\\n",
       "0                아내분이 출산을 하시는군요. 정말 축하드려요.   \n",
       "1                       약 종류가 많아 번거로우시겠어요.   \n",
       "2  고등학교 수업이 중학교 때와는 다르게 갑자기 어려워서 당황스러우시군요.   \n",
       "3                  재취업 후 첫 월급이라 정말 기쁘시겠어요.   \n",
       "4           기분 좋으시겠어요. 앞으로는 어떻게 하실 생각이신가요?   \n",
       "\n",
       "                                           embedding  \\\n",
       "0  [-0.45895177, -0.16547588, -1.1699946, -0.5235...   \n",
       "1  [-0.33981258, -0.34263593, -0.19506723, 0.2771...   \n",
       "2  [-0.29754168, -0.046723098, 0.31551892, -0.247...   \n",
       "3  [-0.46993116, 0.12696421, -0.34500095, 0.03754...   \n",
       "4  [0.29756892, -0.15757245, -0.4363715, -0.25249...   \n",
       "\n",
       "                                        embedding256  \\\n",
       "0  [0.7029776, 0.09571235, -0.13331926, 0.4616024...   \n",
       "1  [0.43760988, 0.45013106, 0.34973702, 0.4857529...   \n",
       "2  [0.7753483, 0.4311396, 0.1468041, 0.6344927, 0...   \n",
       "3  [0.4545657, 0.24327877, -0.05450859, 0.3835893...   \n",
       "4  [0.53895783, 0.22691138, 0.07788866, -0.171293...   \n",
       "\n",
       "                                        embedding128  \\\n",
       "0  [0.7919962, 0.85061026, 1.375485, 0.3510425, 0...   \n",
       "1  [0.35499853, 1.2580262, 0.6652683, 0.08005451,...   \n",
       "2  [0.52067024, -0.20803304, 0.789083, 0.20090854...   \n",
       "3  [0.30212066, 0.49565285, 1.044461, 0.075045474...   \n",
       "4  [-0.033911526, 0.1884734, 1.1081709, 0.7125091...   \n",
       "\n",
       "                                         embedding64  \\\n",
       "0  [0.872061, 0.4354716, 0.4324086, 1.2460749, -0...   \n",
       "1  [0.9290237, 0.44735566, 0.23166454, 0.9519159,...   \n",
       "2  [0.6763892, 0.4358993, 0.30814424, 0.9880088, ...   \n",
       "3  [1.2143894, 0.29390815, 0.3434412, 1.2170162, ...   \n",
       "4  [0.7192032, 0.54352945, 0.04063937, 0.24342585...   \n",
       "\n",
       "                                         embedding32  \n",
       "0  [0.3765331, 0.4333712, 0.30762458, 0.35876477,...  \n",
       "1  [-0.13359079, 0.7160391, -0.0029896572, 0.2504...  \n",
       "2  [0.6171636, 0.53944504, 1.3225539, 0.20258132,...  \n",
       "3  [0.5613419, 0.22808537, 0.6220126, 0.2772836, ...  \n",
       "4  [0.71849537, 0.2457625, 0.9755603, 0.4419853, ...  "
      ]
     },
     "execution_count": 61,
     "metadata": {},
     "output_type": "execute_result"
    }
   ],
   "source": [
    "df.head()"
   ]
  },
  {
   "cell_type": "code",
   "execution_count": 62,
   "metadata": {},
   "outputs": [],
   "source": [
    "df.to_csv('BERT_ChatBot_Dataset_Base.csv', index=False)"
   ]
  },
  {
   "cell_type": "code",
   "execution_count": 55,
   "metadata": {},
   "outputs": [],
   "source": [
    "df256 = df[['Q','A','embedding256']]\n",
    "df128 = df[['Q','A','embedding128']]\n",
    "df64 = df[['Q','A','embedding64']]\n",
    "df32 = df[['Q','A','embedding32']]"
   ]
  },
  {
   "cell_type": "code",
   "execution_count": 56,
   "metadata": {},
   "outputs": [],
   "source": [
    "df256.columns = ['Q','A','embedding']\n",
    "df128.columns = ['Q','A','embedding']\n",
    "df64.columns = ['Q','A','embedding']\n",
    "df32.columns = ['Q','A','embedding']"
   ]
  },
  {
   "cell_type": "code",
   "execution_count": 57,
   "metadata": {},
   "outputs": [],
   "source": [
    "df256.to_csv('BERT_ChatBot_Dataset_256.csv', index=False)\n",
    "df128.to_csv('BERT_ChatBot_Dataset_128.csv', index=False)\n",
    "df64.to_csv('BERT_ChatBot_Dataset_64.csv', index=False)\n",
    "df32.to_csv('BERT_ChatBot_Dataset_32.csv', index=False)"
   ]
  },
  {
   "cell_type": "code",
   "execution_count": 58,
   "metadata": {},
   "outputs": [],
   "source": [
    "data256 = pd.read_csv('BERT_ChatBot_Dataset_256.csv')\n",
    "data128 = pd.read_csv('BERT_ChatBot_Dataset_128.csv')\n",
    "data64 = pd.read_csv('BERT_ChatBot_Dataset_64.csv')\n",
    "data32 = pd.read_csv('BERT_ChatBot_Dataset_32.csv')\n",
    "\n",
    "strtotensor = lambda x : list(map(float, x[1:-1].replace('\\n', '').replace('e -', 'e-').split()))\n",
    "\n",
    "data256['embedding'] = data256['embedding'].map(strtotensor)\n",
    "data128['embedding'] = data128['embedding'].map(strtotensor)\n",
    "data64['embedding'] = data64['embedding'].map(strtotensor)\n",
    "data32['embedding'] = data32['embedding'].map(strtotensor)"
   ]
  },
  {
   "cell_type": "code",
   "execution_count": 59,
   "metadata": {},
   "outputs": [
    {
     "data": {
      "text/plain": [
       "[0.3765331,\n",
       " 0.4333712,\n",
       " 0.30762458,\n",
       " 0.35876477,\n",
       " 0.6179334,\n",
       " 0.14657944,\n",
       " 0.2714496,\n",
       " 0.9003582,\n",
       " 0.3954602,\n",
       " 0.0545769,\n",
       " 0.30774987,\n",
       " 0.44536176,\n",
       " 0.1939399,\n",
       " 1.1345613,\n",
       " 0.18388852,\n",
       " 2.0108793,\n",
       " 0.49562863,\n",
       " 0.20259957,\n",
       " 0.33128336,\n",
       " 0.05180453,\n",
       " -0.10602854,\n",
       " 0.03658326,\n",
       " 0.5775585,\n",
       " 0.01929516,\n",
       " 0.13348165,\n",
       " 0.04639779,\n",
       " -1.2882342,\n",
       " 0.3470385,\n",
       " 0.8388654,\n",
       " 0.07214807,\n",
       " 1.2241417,\n",
       " 0.09875238]"
      ]
     },
     "execution_count": 59,
     "metadata": {},
     "output_type": "execute_result"
    }
   ],
   "source": [
    "data32['embedding'][0]"
   ]
  },
  {
   "cell_type": "code",
   "execution_count": 63,
   "metadata": {},
   "outputs": [],
   "source": [
    "# data256.to_csv('BERT_ChatBot_Dataset_256.csv', index=False)\n",
    "# data128.to_csv('BERT_ChatBot_Dataset_128.csv', index=False)\n",
    "data64.to_csv('BERT_ChatBot_Dataset_64.csv', index=False)\n",
    "data32.to_csv('BERT_ChatBot_Dataset_32.csv', index=False)"
   ]
  },
  {
   "cell_type": "code",
   "execution_count": 45,
   "metadata": {},
   "outputs": [
    {
     "data": {
      "text/plain": [
       "tensor([-0.6896,  0.1020,  0.1798, -0.5167,  0.0856,  0.3789, -0.2076, -0.5551,\n",
       "         0.2013,  0.2461,  0.4048, -0.4176,  0.3773, -0.0289, -0.2264, -0.1841,\n",
       "        -0.2070, -0.3099,  0.2866, -0.3933, -0.6093, -0.2933,  0.1286, -0.1346,\n",
       "        -0.2776,  0.3269,  0.4665,  0.7484, -0.1130,  0.3023,  0.1562, -0.1394,\n",
       "        -0.2360, -0.2048,  0.3151, -0.2931, -0.2187, -0.2884, -0.6644,  0.1698,\n",
       "        -0.3819, -0.2462, -0.3828,  0.3629, -0.3976,  0.4046, -0.3100,  0.0227,\n",
       "         0.3737, -0.1808, -0.8002,  0.2533, -0.1282,  0.2005,  0.1221, -0.6404,\n",
       "        -0.2836, -0.4330, -0.8129, -0.6496, -0.4519,  0.6657, -0.2829, -0.1084],\n",
       "       device='cuda:0', grad_fn=<AddBackward0>)"
      ]
     },
     "execution_count": 45,
     "metadata": {},
     "output_type": "execute_result"
    }
   ],
   "source": [
    "a = m.encoder\n",
    "a(torch.randn(768).cuda())"
   ]
  },
  {
   "cell_type": "code",
   "execution_count": 44,
   "metadata": {},
   "outputs": [
    {
     "data": {
      "text/plain": [
       "'AE256.pt'"
      ]
     },
     "execution_count": 44,
     "metadata": {},
     "output_type": "execute_result"
    }
   ],
   "source": [
    "dim = 256\n",
    "'AE'+str(dim)+'.pt'"
   ]
  },
  {
   "cell_type": "code",
   "execution_count": null,
   "metadata": {},
   "outputs": [],
   "source": []
  }
 ],
 "metadata": {
  "colab": {
   "authorship_tag": "ABX9TyM/jfQeF2tsYT5kcQ8xPWgo",
   "collapsed_sections": [],
   "mount_file_id": "1CwP2L_SJYXsb4d7QKesJiysp39UnS9uu",
   "name": "ChatBot_Dataset_AE.ipynb",
   "provenance": []
  },
  "kernelspec": {
   "display_name": "Python 3 (Notebook)",
   "language": "python",
   "name": "python3"
  },
  "language_info": {
   "codemirror_mode": {
    "name": "ipython",
    "version": 3
   },
   "file_extension": ".py",
   "mimetype": "text/x-python",
   "name": "python",
   "nbconvert_exporter": "python",
   "pygments_lexer": "ipython3",
   "version": "3.6.13"
  }
 },
 "nbformat": 4,
 "nbformat_minor": 4
}
